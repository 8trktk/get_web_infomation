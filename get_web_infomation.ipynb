{
  "nbformat": 4,
  "nbformat_minor": 0,
  "metadata": {
    "colab": {
      "name": "get_web_infomation.ipynb",
      "provenance": [],
      "collapsed_sections": [],
      "authorship_tag": "ABX9TyNx1H5aB/ceuGSFxlkI+fhZ",
      "include_colab_link": true
    },
    "kernelspec": {
      "name": "python3",
      "display_name": "Python 3"
    }
  },
  "cells": [
    {
      "cell_type": "markdown",
      "metadata": {
        "id": "view-in-github",
        "colab_type": "text"
      },
      "source": [
        "<a href=\"https://colab.research.google.com/github/8trktk/get_web_infomation/blob/master/get_web_infomation.ipynb\" target=\"_parent\"><img src=\"https://colab.research.google.com/assets/colab-badge.svg\" alt=\"Open In Colab\"/></a>"
      ]
    },
    {
      "cell_type": "markdown",
      "metadata": {
        "id": "ISx5qpWMQKvC",
        "colab_type": "text"
      },
      "source": [
        "##Webから情報を取得する"
      ]
    },
    {
      "cell_type": "code",
      "metadata": {
        "id": "wayNivlzPF9M",
        "colab_type": "code",
        "outputId": "09e58043-089e-4768-b4a0-0bc031c3f4db",
        "colab": {
          "base_uri": "https://localhost:8080/",
          "height": 309
        }
      },
      "source": [
        "import urllib.request\n",
        "\n",
        "res = urllib.request.urlopen(\"http://weather.nikkei.com/yoho/\") #urlopen関数でリクエスト送信\n",
        "html = res.read().decode(\"utf-8\") #取得したレスポンスをテキストに変換\n",
        "res.close()\n",
        "\n",
        "print(html[:1000])"
      ],
      "execution_count": 1,
      "outputs": [
        {
          "output_type": "stream",
          "text": [
            "<!DOCTYPE html PUBLIC \"-//W3C//DTD XHTML 1.0 Transitional//EN\" \"http://www.w3.org/TR/xhtml1/DTD/xhtml1-transitional.dtd\">\n",
            "<html>\n",
            "<head>\n",
            "<meta http-equiv=\"Content-Language\" content=\"ja\">\n",
            "<meta http-equiv=\"Content-Type\" content=\"text/html; charset=UTF-8\">\n",
            "<meta http-equiv=\"Content-Style-Type\" content=\"text/css\">\n",
            "<meta http-equiv=\"Content-Script-Type\" content=\"text/javascript\">\n",
            "<meta name=\"description\" content=\"日本経済新聞の電子版。日経や日経ＢＰの提供する経済、企業、国際、政治、マーケット、情報・通信、社会など各分野のニュース。ビジネス、マネー、IT、スポーツ、住宅、キャリアなどの専門情報も満載。\">\n",
            "<meta name=\"keywords\" content=\"日経,日経平均,ニュース,経済,株,新聞\">\n",
            "<META NAME=\"FJZONE_CATEGORY\" CONTENT=\"\">\n",
            "<title>日本経済新聞 天気</title>\n",
            "<link rel=\"stylesheet\" type=\"text/css\" href=\"http://parts.nikkei.jp/parts/ds/css/layout.css\" media=\"screen,tv,projection,print\" >\n",
            "<link rel=\"stylesheet\" type=\"text/css\" href=\"../css/wni.css?2\">\n",
            "<link rel=\"stylesheet\" type=\"text/css\" media=\"all\" href=\"../css/layout.hensei.css\">\n",
            "<link rel=\"stylesheet\" type=\"text/css\" media=\"all\" href=\"../css/universal_bar.css\">\n",
            "<script \n"
          ],
          "name": "stdout"
        }
      ]
    },
    {
      "cell_type": "code",
      "metadata": {
        "id": "XcKBVqsdTpuz",
        "colab_type": "code",
        "outputId": "699849cc-2c86-488a-b188-c302db1d584f",
        "colab": {
          "base_uri": "https://localhost:8080/",
          "height": 34
        }
      },
      "source": [
        "import urllib.request\n",
        "\n",
        "res = urllib.request.urlopen(\"http://weather.nikkei.com/yoho/\")\n",
        "html = res.read().decode(\"utf-8\")\n",
        "res.close()\n",
        "\n",
        "f = open(\"weather.html\", \"w\", encoding=\"utf-8\") #書き込みモードでファイルweather.htmlを開く\n",
        "f.write(html) #取得したHTMLデータをファイルweather.htmlに保存\n",
        "f.close()\n",
        "print(\"weather.htmlに保存しました。\")"
      ],
      "execution_count": 0,
      "outputs": [
        {
          "output_type": "stream",
          "text": [
            "weather.htmlに保存しました。\n"
          ],
          "name": "stdout"
        }
      ]
    },
    {
      "cell_type": "code",
      "metadata": {
        "id": "vBDFYRFhlEGb",
        "colab_type": "code",
        "outputId": "04752809-2f02-4e5f-9430-06df347e8006",
        "colab": {
          "base_uri": "https://localhost:8080/",
          "height": 309
        }
      },
      "source": [
        " # ファイルを文字列として読み込む\n",
        "with open(\"weather.html\") as f:\n",
        "    s = f.read()\n",
        "    print(s[:1000])"
      ],
      "execution_count": 0,
      "outputs": [
        {
          "output_type": "stream",
          "text": [
            "<!DOCTYPE html PUBLIC \"-//W3C//DTD XHTML 1.0 Transitional//EN\" \"http://www.w3.org/TR/xhtml1/DTD/xhtml1-transitional.dtd\">\n",
            "<html>\n",
            "<head>\n",
            "<meta http-equiv=\"Content-Language\" content=\"ja\">\n",
            "<meta http-equiv=\"Content-Type\" content=\"text/html; charset=UTF-8\">\n",
            "<meta http-equiv=\"Content-Style-Type\" content=\"text/css\">\n",
            "<meta http-equiv=\"Content-Script-Type\" content=\"text/javascript\">\n",
            "<meta name=\"description\" content=\"日本経済新聞の電子版。日経や日経ＢＰの提供する経済、企業、国際、政治、マーケット、情報・通信、社会など各分野のニュース。ビジネス、マネー、IT、スポーツ、住宅、キャリアなどの専門情報も満載。\">\n",
            "<meta name=\"keywords\" content=\"日経,日経平均,ニュース,経済,株,新聞\">\n",
            "<META NAME=\"FJZONE_CATEGORY\" CONTENT=\"\">\n",
            "<title>日本経済新聞 天気</title>\n",
            "<link rel=\"stylesheet\" type=\"text/css\" href=\"http://parts.nikkei.jp/parts/ds/css/layout.css\" media=\"screen,tv,projection,print\" >\n",
            "<link rel=\"stylesheet\" type=\"text/css\" href=\"../css/wni.css?2\">\n",
            "<link rel=\"stylesheet\" type=\"text/css\" media=\"all\" href=\"../css/layout.hensei.css\">\n",
            "<link rel=\"stylesheet\" type=\"text/css\" media=\"all\" href=\"../css/universal_bar.css\">\n",
            "<script \n"
          ],
          "name": "stdout"
        }
      ]
    },
    {
      "cell_type": "code",
      "metadata": {
        "id": "QwijeYyrnJH6",
        "colab_type": "code",
        "outputId": "bc18f7a1-76e4-49d8-c53b-73e43de481dd",
        "colab": {
          "base_uri": "https://localhost:8080/",
          "height": 51
        }
      },
      "source": [
        "import urllib.request\n",
        "import re\n",
        "\n",
        "res = urllib.request.urlopen(\"http://weather.nikkei.com/yoho/\")\n",
        "html = res.read().decode(\"utf-8\")\n",
        "res.close()\n",
        "\n",
        "# findallで岡山のHTMLを取り出す\n",
        "match = re.findall('<td align=\"center\" bgcolor=\"#dbf1ff\" class=\"fs10constant\">岡山</td>(.*?)</td>', html,re.DOTALL)\n",
        "print(match[0])"
      ],
      "execution_count": 0,
      "outputs": [
        {
          "output_type": "stream",
          "text": [
            "\n",
            "\t\t\t<td bgcolor=\"#FFFFFF\" class=\"fs10constant\" align=\"center\"><img src=\"../img/telop/200.gif\" alt=\"曇り\">\n"
          ],
          "name": "stdout"
        }
      ]
    },
    {
      "cell_type": "code",
      "metadata": {
        "id": "XrBGeie6A2x5",
        "colab_type": "code",
        "outputId": "a1ea058b-19cc-4724-8227-2d73b6a018cb",
        "colab": {
          "base_uri": "https://localhost:8080/",
          "height": 34
        }
      },
      "source": [
        "import urllib.request\n",
        "import re\n",
        "\n",
        "res = urllib.request.urlopen(\"http://weather.nikkei.com/yoho/\")\n",
        "html = res.read().decode(\"utf-8\")\n",
        "res.close()\n",
        "\n",
        "match = re.findall('<td align=\"center\" bgcolor=\"#dbf1ff\" class=\"fs10constant\">岡山</td>(.*?)</td>', html,re.DOTALL)\n",
        "# 抽出した文字列の中からalt属性の文字列のみ取り出す\n",
        "yoho = re.findall('alt=\"(.*?)\"', match[0])\n",
        "print('今日の岡山は',yoho[0])"
      ],
      "execution_count": 0,
      "outputs": [
        {
          "output_type": "stream",
          "text": [
            "今日の岡山は 曇り\n"
          ],
          "name": "stdout"
        }
      ]
    },
    {
      "cell_type": "markdown",
      "metadata": {
        "id": "9_4Q_x6ZJfzq",
        "colab_type": "text"
      },
      "source": [
        "##Webサービス"
      ]
    },
    {
      "cell_type": "code",
      "metadata": {
        "id": "Q7hwQzFvDRBJ",
        "colab_type": "code",
        "outputId": "8d52f3e5-68fa-4eab-b246-2114d9afa28a",
        "colab": {
          "base_uri": "https://localhost:8080/",
          "height": 54
        }
      },
      "source": [
        "# WeatherHacksを利用する\n",
        "import urllib.request\n",
        "import json\n",
        "\n",
        "url = 'http://weather.livedoor.com/forecast/webservice/json/v1?city=140020'\n",
        "res = urllib.request.urlopen(url )\n",
        "json_data = res.read().decode('utf-8') #小田原地域の情報をJSON形式で取得\n",
        "odawara = json.loads(json_data) #Pythonのオブジェクトに変換\n",
        "print(odawara)　#辞書型になっている"
      ],
      "execution_count": 0,
      "outputs": [
        {
          "output_type": "stream",
          "text": [
            "{'pinpointLocations': [{'link': 'http://weather.livedoor.com/area/forecast/1415000', 'name': '相模原市'}, {'link': 'http://weather.livedoor.com/area/forecast/1415011', 'name': '相模原市西部'}, {'link': 'http://weather.livedoor.com/area/forecast/1415012', 'name': '相模原市東部'}, {'link': 'http://weather.livedoor.com/area/forecast/1420600', 'name': '小田原市'}, {'link': 'http://weather.livedoor.com/area/forecast/1421100', 'name': '秦野市'}, {'link': 'http://weather.livedoor.com/area/forecast/1421200', 'name': '厚木市'}, {'link': 'http://weather.livedoor.com/area/forecast/1421400', 'name': '伊勢原市'}, {'link': 'http://weather.livedoor.com/area/forecast/1421700', 'name': '南足柄市'}, {'link': 'http://weather.livedoor.com/area/forecast/1436100', 'name': '中井町'}, {'link': 'http://weather.livedoor.com/area/forecast/1436200', 'name': '大井町'}, {'link': 'http://weather.livedoor.com/area/forecast/1436300', 'name': '松田町'}, {'link': 'http://weather.livedoor.com/area/forecast/1436400', 'name': '山北町'}, {'link': 'http://weather.livedoor.com/area/forecast/1436600', 'name': '開成町'}, {'link': 'http://weather.livedoor.com/area/forecast/1438200', 'name': '箱根町'}, {'link': 'http://weather.livedoor.com/area/forecast/1438300', 'name': '真鶴町'}, {'link': 'http://weather.livedoor.com/area/forecast/1438400', 'name': '湯河原町'}, {'link': 'http://weather.livedoor.com/area/forecast/1440100', 'name': '愛川町'}, {'link': 'http://weather.livedoor.com/area/forecast/1440200', 'name': '清川村'}], 'link': 'http://weather.livedoor.com/area/forecast/140020', 'forecasts': [{'dateLabel': '今日', 'telop': '曇のち晴', 'date': '2020-02-15', 'temperature': {'min': None, 'max': None}, 'image': {'width': 50, 'url': 'http://weather.livedoor.com/img/icon/12.gif', 'title': '曇のち晴', 'height': 31}}, {'dateLabel': '明日', 'telop': '曇時々雨', 'date': '2020-02-16', 'temperature': {'min': {'celsius': '8', 'fahrenheit': '46.4'}, 'max': {'celsius': '18', 'fahrenheit': '64.4'}}, 'image': {'width': 50, 'url': 'http://weather.livedoor.com/img/icon/10.gif', 'title': '曇時々雨', 'height': 31}}, {'dateLabel': '明後日', 'telop': '曇時々晴', 'date': '2020-02-17', 'temperature': {'min': None, 'max': None}, 'image': {'width': 50, 'url': 'http://weather.livedoor.com/img/icon/9.gif', 'title': '曇時々晴', 'height': 31}}], 'location': {'city': '小田原', 'area': '関東', 'prefecture': '神奈川県'}, 'publicTime': '2020-02-15T17:00:00+0900', 'copyright': {'provider': [{'link': 'http://tenki.jp/', 'name': '日本気象協会'}], 'link': 'http://weather.livedoor.com/', 'title': '(C) LINE Corporation', 'image': {'width': 118, 'link': 'http://weather.livedoor.com/', 'url': 'http://weather.livedoor.com/img/cmn/livedoor.gif', 'title': 'livedoor 天気情報', 'height': 26}}, 'title': '神奈川県 小田原 の天気', 'description': {'text': ' 前線が東シナ海から日本の南に停滞しており、上空の気圧の谷が東日本を通過中です。一方、北日本から東日本は、高気圧に緩やかに覆われています。\\n\\n 神奈川県は、曇りとなっています。\\n\\n 15日は、上空の気圧の谷の影響で曇りますが、引き続き高気圧に緩やかに覆われるため、夜遅くは晴れるでしょう。\\n\\n 16日は、低気圧が日本海と東日本の南岸を東北東へ進むため、曇りで朝から昼過ぎは雨となり、昼前から昼過ぎは雷を伴う所がある見込みです。\\n\\n 神奈川県の海上では、15日は多少波があるでしょう。16日は波が高い見込みです。船舶は、高波に警戒してください。', 'publicTime': '2020-02-15T16:41:00+0900'}}\n"
          ],
          "name": "stdout"
        }
      ]
    },
    {
      "cell_type": "code",
      "metadata": {
        "id": "0dyPqKOdGhze",
        "colab_type": "code",
        "outputId": "5caa6ad4-c86f-4399-de4c-52a936f15101",
        "colab": {
          "base_uri": "https://localhost:8080/",
          "height": 68
        }
      },
      "source": [
        "import urllib.request\n",
        "import json\n",
        "\n",
        "url = 'http://weather.livedoor.com/forecast/webservice/json/v1?city=140020'\n",
        "res = urllib.request.urlopen(url )\n",
        "html = res.read().decode('utf-8')\n",
        "jdata = json.loads(html)\n",
        "\n",
        "print(jdata['title'])\n",
        "print(jdata['forecasts'][0]['dateLabel'])\n",
        "print(jdata['forecasts'][0]['telop'])"
      ],
      "execution_count": 0,
      "outputs": [
        {
          "output_type": "stream",
          "text": [
            "神奈川県 小田原 の天気\n",
            "今日\n",
            "曇のち晴\n"
          ],
          "name": "stdout"
        }
      ]
    }
  ]
}